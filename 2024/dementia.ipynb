{
 "cells": [
  {
   "cell_type": "markdown",
   "metadata": {},
   "source": [
    "# Hands-On Workshop - Big Data in Healthcare 8400\n",
    "\n",
    "## Test your knowledge - Dementia Dataset\n",
    "\n",
    "Your training dataset also comes from [kaggle](https://www.kaggle.com/), a platform for data science competitions. The dataset is called [Dementia Prediction](https://www.kaggle.com/datasets/fatemehmehrparvar/dementia). The dataset is used to generate predictions of dementia using the simple MRI score and the amended MRI score. \n",
    "\n",
    "## Instructions\n",
    "\n",
    "Load and examine the Dementia dataset (`Dementia.csv`). Based on what we just learned, answer the following questions:\n",
    "\n",
    "1. **Data Understanding and Cleaning**\n",
    "    - How many records and features are there in the dataset? Identify the number of numerical and categorical features.\n",
    "    - Are there any missing values in the dataset? If so, in which columns and how many?\n",
    "    - For categorical columns with missing values, explore what the most common category is. Consider if it's appropriate to fill missing values with the most common category.\n",
    "    - For numerical columns with missing values, calculate the mean and median. Decide which measure of central tendency is more appropriate for filling the missing values.\n",
    "  \n",
    "2. **Statistical Analysis and Visualization**\n",
    "    - What is the age distribution of the individuals in the dataset? Plot a histogram of the age feature.\n",
    "    - How does the number of years of education relate to the dementia_all feature? Plot a boxplot showing the distribution of education years for individuals with and without dementia.\n",
    "    - Explore the relationship between gender and dementia. Calculate the percentage of individuals with dementia for each gender and create a bar plot.\n",
    "    - Investigate the prevalence of diabetes, smoking, hypertension, and hypercholesterolemia in the dataset. Create a bar plot for each condition.\n",
    "  \n",
    "3. **Advanced Analysis and Insights**\n",
    "    - Is there a noticeable difference in the EF (Executive Function) scores between individuals with and without dementia? Use a boxplot to visualize and compare the distributions.\n",
    "    - What is the average age of individuals with more than zero lacunes (lacunes_num)? Compare it to the average age of individuals with zero lacunes.\n",
    "    - Analyze how the Fazekas score relates to dementia. Do individuals with higher Fazekas scores tend to have dementia more often? Use a suitable plot to visualize this relationship.\n",
    "    - For individuals with dementia, what is the most common category in the 'fazekas_cat' feature? Create a pie chart showing the distribution of the 'fazekas_cat' feature for individuals with dementia.\n",
    "    - Analyze the relationship between the 'SVD Simple Score' and the 'SVD Amended Score'. Is there a strong correlation between these two scores? Use a scatter plot to visualize the relationship.\n",
    "    - Compare the distribution of the 'PS' (Processing Speed) scores for different categories of the 'hypercholesterolemia' feature. Use a boxplot to visualize the comparison."
   ]
  },
  {
   "cell_type": "code",
   "execution_count": null,
   "metadata": {},
   "outputs": [],
   "source": [
    "# Your code goes here!"
   ]
  }
 ],
 "metadata": {
  "kernelspec": {
   "display_name": "alt",
   "language": "python",
   "name": "python3"
  },
  "language_info": {
   "name": "python",
   "version": "3.9.16"
  }
 },
 "nbformat": 4,
 "nbformat_minor": 2
}
