{
 "cells": [
  {
   "attachments": {},
   "cell_type": "markdown",
   "id": "72976822",
   "metadata": {},
   "source": [
    "# Hands-On Workshop - Big Data in Healthcare 8400\n",
    "\n",
    "### Hadas Volkov - January 2024\n",
    "\n",
    "##### Azure space and resources were kindly contributed by **Microsoft**\n",
    "\n",
    "Welcome to this hands-on workshop on Big Data in Healthcare. In this workshop, we will perform Exploratory Data Analysis (EDA) to gain insights and intuition about a stroke records dataset.\n",
    "\n",
    "We will be covering the following topics:\n",
    "\n",
    "1. Introduction to the dataset and problem\n",
    "2. Data cleaning and preparation\n",
    "3. Exploratory Data Analysis (EDA)\n",
    "4. Feature engineering\n",
    "5. Model training and evaluation\n",
    "\n",
    "Let's get started!"
   ]
  },
  {
   "attachments": {},
   "cell_type": "markdown",
   "id": "a6466fb2",
   "metadata": {},
   "source": [
    "## Stroke Prediction Dataset\n",
    "\n",
    "The dataset we will be using in this workshop is the [Stroke Prediction Dataset](https://www.kaggle.com/fedesoriano/stroke-prediction-dataset) from **Kaggle**. It contains health records of over 5000 individuals, some of whom have suffered a stroke.\n",
    "\n",
    "According to the World Health Organization (WHO) stroke is the 2nd leading cause of death globally, responsible for approximately 11% of total deaths.\n",
    "This dataset can be used to predict whether a patient is likely to get stroke based on the input parameters like gender, age, various diseases, and smoking status. Each row in the data provides relevant information about the patient.\n",
    "\n",
    "We will be using this dataset to get initial insights about the data, and to get a *feel* for the work of a data scientist. We will understand how to use basic python scripting, packages and techniques to explore the data, and how to use this information to train a Machine Learning (ML) model in subsequent workshop.\n",
    "\n",
    "Hopefully, this workshop will give you a taste of what it's like to be a data scientist, and will demonstrate why it is beneficial to use python and Jupyter notebooks for data science."
   ]
  },
  {
   "cell_type": "markdown",
   "metadata": {},
   "source": [
    "# Step 0: Imports and Reading Data"
   ]
  },
  {
   "cell_type": "code",
   "execution_count": null,
   "id": "1b6bb04a",
   "metadata": {},
   "outputs": [],
   "source": [
    "# Numpy and Pandas for data manipulation\n",
    "\n",
    "# Matplotlib and Seaborn for visualization"
   ]
  },
  {
   "cell_type": "code",
   "execution_count": null,
   "id": "a053a676",
   "metadata": {},
   "outputs": [],
   "source": [
    "# Read in data into a dataframe"
   ]
  },
  {
   "cell_type": "markdown",
   "id": "4b0d5b02",
   "metadata": {},
   "source": [
    "# Step 1: Data Understanding\n",
    "\n",
    "* Dataframe `shape`\n",
    "* `head` and `tail`\n",
    "*  `dtypes`\n",
    "*  `describe`"
   ]
  },
  {
   "cell_type": "code",
   "execution_count": null,
   "id": "20d7265f",
   "metadata": {},
   "outputs": [],
   "source": [
    "# Display shape of dataframe"
   ]
  },
  {
   "cell_type": "code",
   "execution_count": null,
   "id": "2703b8d9",
   "metadata": {},
   "outputs": [],
   "source": [
    "# Display first 10 rows of dataframe"
   ]
  },
  {
   "cell_type": "code",
   "execution_count": null,
   "id": "464c6f51",
   "metadata": {},
   "outputs": [],
   "source": [
    "# Display column names"
   ]
  },
  {
   "cell_type": "markdown",
   "id": "501439e9",
   "metadata": {},
   "source": [
    "The current dataset contains the following features:\n",
    "\n",
    "* `id`: unique identifier\n",
    "* `gender`: \"Male\", \"Female\" or \"Other\"\n",
    "* `age`: age of the patient\n",
    "* `hypertension`: 0 if the patient doesn't have hypertension, 1 if the patient has hypertension\n",
    "* `heart_disease`: 0 if the patient doesn't have any heart diseases, 1 if the patient has a heart disease\n",
    "* `ever_married`: \"No\" or \"Yes\"\n",
    "* `work_type`: \"children\", \"Govt_jov\", \"Never_worked\", \"Private\" or \"Self-employed\"\n",
    "* `Residence_type`: \"Rural\" or \"Urban\"\n",
    "* `avg_glucose_level`: average glucose level in blood\n",
    "* `bmi`: body mass index\n",
    "* `smoking_status`: \"formerly smoked\", \"never smoked\", \"smokes\" or \"Unknown\"*\n",
    "* `stroke`: 1 if the patient had a stroke or 0 if not\n",
    "\n",
    "###### **Note**: \"Unknown\" in smoking_status means that the information is unavailable for this patient"
   ]
  },
  {
   "cell_type": "code",
   "execution_count": null,
   "id": "d88807c7",
   "metadata": {},
   "outputs": [],
   "source": [
    "# Display information about types of data in dataframe"
   ]
  },
  {
   "cell_type": "code",
   "execution_count": null,
   "id": "feb55bc2",
   "metadata": {},
   "outputs": [],
   "source": [
    "# Describe basic statistics about dataframe"
   ]
  },
  {
   "cell_type": "markdown",
   "id": "3e18406c",
   "metadata": {},
   "source": [
    "# Step 2: Data Preparation\n",
    "\n",
    "* Dropping irrelevant columns and rows\n",
    "* Identifying duplicated columns\n",
    "* Renaming Columns\n",
    "* Feature Creation"
   ]
  },
  {
   "cell_type": "code",
   "execution_count": null,
   "id": "83d2cd54",
   "metadata": {},
   "outputs": [],
   "source": [
    "# Dropping the 'irrelevant_column' and 'duplicate_column'"
   ]
  },
  {
   "cell_type": "code",
   "execution_count": null,
   "id": "8b1b4875",
   "metadata": {},
   "outputs": [],
   "source": [
    "# Renaming columns back to original"
   ]
  },
  {
   "cell_type": "code",
   "execution_count": null,
   "id": "df592bc4",
   "metadata": {},
   "outputs": [],
   "source": [
    "# Identifying duplicate rows"
   ]
  },
  {
   "cell_type": "code",
   "execution_count": null,
   "id": "9f587fc4",
   "metadata": {},
   "outputs": [],
   "source": []
  },
  {
   "cell_type": "code",
   "execution_count": null,
   "id": "2a7a9877",
   "metadata": {},
   "outputs": [],
   "source": []
  },
  {
   "cell_type": "code",
   "execution_count": null,
   "id": "96c5073f",
   "metadata": {},
   "outputs": [],
   "source": [
    "# Checking the number of missing values"
   ]
  },
  {
   "cell_type": "code",
   "execution_count": null,
   "id": "ac41445b",
   "metadata": {},
   "outputs": [],
   "source": [
    "# Percentage of missing bmi values"
   ]
  },
  {
   "cell_type": "code",
   "execution_count": null,
   "id": "2b1aacc9",
   "metadata": {},
   "outputs": [],
   "source": [
    "# Replacing missing bmi values with mean"
   ]
  },
  {
   "cell_type": "code",
   "execution_count": null,
   "id": "7d8921dc",
   "metadata": {},
   "outputs": [],
   "source": [
    "# Creating a health risk score based on normalized values of certain health indicators"
   ]
  },
  {
   "cell_type": "markdown",
   "metadata": {},
   "source": [
    "# Step 3: Feature Understanding - Univariate Analysis\n",
    "\n",
    "* Plotting Feature Distributions\n",
    "  * Histogram\n",
    "  * KDE\n",
    "  * Boxplot"
   ]
  },
  {
   "cell_type": "code",
   "execution_count": null,
   "id": "9d01c54f",
   "metadata": {},
   "outputs": [],
   "source": []
  },
  {
   "cell_type": "code",
   "execution_count": null,
   "id": "bc29b239",
   "metadata": {},
   "outputs": [],
   "source": [
    "# Bar plot of smoking status (categorious variable)"
   ]
  },
  {
   "cell_type": "code",
   "execution_count": null,
   "id": "c21117ef",
   "metadata": {},
   "outputs": [],
   "source": [
    "# Histogram of age (continuous variable)\n",
    "\n",
    "# Creating the figure and the first axis\n",
    "\n",
    "# Plotting the histogram of 'age' on the first axis\n",
    "\n",
    "# Creating the second axis\n",
    "\n",
    "# Plotting the histogram of 'avg_glucose_level' on the second axis\n",
    "\n",
    "# Adding legends\n",
    "\n",
    "# Showing the plot"
   ]
  },
  {
   "cell_type": "code",
   "execution_count": null,
   "id": "6c62a90f",
   "metadata": {},
   "outputs": [],
   "source": [
    "# Kernel Density Estimation (KDE) plot of health risk score (continuous variable)"
   ]
  },
  {
   "cell_type": "markdown",
   "id": "66107df5",
   "metadata": {},
   "source": [
    "# Step 4: Feature Relationship - Bivariate Analysis\n",
    "\n",
    "* Scatterplot\n",
    "* Heatmap Correlation\n",
    "* Pairplot\n",
    "* Groupby comparisons"
   ]
  },
  {
   "cell_type": "code",
   "execution_count": null,
   "id": "0ed1e796",
   "metadata": {},
   "outputs": [],
   "source": [
    "# Scatter plot of age and health risk score (continuous variables)"
   ]
  },
  {
   "cell_type": "code",
   "execution_count": null,
   "id": "d40a36cb",
   "metadata": {},
   "outputs": [],
   "source": [
    "# Scatter plot of age and health risk score (continuous variables) with regression line and 95% confidence interval"
   ]
  },
  {
   "cell_type": "code",
   "execution_count": null,
   "id": "88dcf7ba",
   "metadata": {},
   "outputs": [],
   "source": [
    "# Pairplot of age, avg_glucose_level, bmi, hypertension, heart_disease"
   ]
  },
  {
   "cell_type": "code",
   "execution_count": null,
   "id": "f4f11821",
   "metadata": {},
   "outputs": [],
   "source": [
    "# A more refined pairplot of age, avg_glucose_level, bmi, hypertension, heart_disease"
   ]
  },
  {
   "cell_type": "code",
   "execution_count": null,
   "id": "454b06e7",
   "metadata": {},
   "outputs": [],
   "source": [
    "# Correlation matrix of age, avg_glucose_level, bmi, hypertension, heart_disease"
   ]
  },
  {
   "cell_type": "markdown",
   "id": "f8be02cc",
   "metadata": {},
   "source": [
    "# Step 5: Ask a Question about the data\n",
    "* Try to answer a question you have about the data using a plot or statistic."
   ]
  },
  {
   "cell_type": "code",
   "execution_count": null,
   "id": "512f5dc4",
   "metadata": {},
   "outputs": [],
   "source": [
    "# What are the residence type and work type most susceptible to stroke?\n",
    "\n",
    "# Filter only rows where stroke occurred and group by 'Residence_type' and 'work_type', calculating the count for each group\n",
    "\n",
    "# Sort values by count in descending order to see which combination of 'Residence_type' and 'work_type' has the most strokes\n",
    "\n",
    "# Concatenating 'Residence_type' and 'work_type' for better labeling\n",
    "\n",
    "# Plotting the results with the combined label\n"
   ]
  },
  {
   "cell_type": "markdown",
   "id": "c534cada",
   "metadata": {},
   "source": [
    "#### A static version of this file can be found in my 'github' repository: [https://github.com/hadasvolk/8400ML-WS](https://github.com/hadasvolk/8400ML-WS)"
   ]
  }
 ],
 "metadata": {
  "celltoolbar": "Tags",
  "kernelspec": {
   "display_name": "Python 3 (ipykernel)",
   "language": "python",
   "name": "python3"
  },
  "language_info": {
   "codemirror_mode": {
    "name": "ipython",
    "version": 3
   },
   "file_extension": ".py",
   "mimetype": "text/x-python",
   "name": "python",
   "nbconvert_exporter": "python",
   "pygments_lexer": "ipython3",
   "version": "3.10.8"
  }
 },
 "nbformat": 4,
 "nbformat_minor": 5
}
